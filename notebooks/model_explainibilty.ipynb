{
 "cells": [
  {
   "cell_type": "markdown",
   "metadata": {},
   "source": [
    "## Task 3 - Model Explainability\n",
    "Model explainability is crucial for understanding, trust, and debugging in machine learning models. You will use SHAP (Shapley Additive exPlanations) and LIME (Local Interpretable Model-agnostic Explanations) to interpret the models you built for fraud detection.\n",
    "\n",
    "Using SHAP for Explainability\n",
    "SHAP values provide a unified measure of feature importance, explaining the contribution of each feature to the prediction.\n",
    "Installing SHAP\n",
    "pip install shap\n",
    "Explaining a Model with SHAP\n",
    "SHAP Plots\n",
    "Summary Plot: Provides an overview of the most important features.\n",
    "Force Plot: Visualizes the contribution of features for a single prediction.\n",
    "Dependence Plot: This shows the relationship between a feature and the model output.\n",
    "Using LIME for Explainability\n",
    "LIME explains individual predictions by approximating the model locally with an interpretable model.\n",
    "Installing LIME\n",
    "pip install lime\n",
    "Explaining a Model with LIME\n",
    "LIME Plots\n",
    "Feature Importance Plot: Shows the most influential features for a specific prediction."
   ]
  },
  {
   "cell_type": "markdown",
   "metadata": {},
   "source": [
    "installing SHAP"
   ]
  },
  {
   "cell_type": "code",
   "execution_count": 3,
   "metadata": {},
   "outputs": [
    {
     "name": "stdout",
     "output_type": "stream",
     "text": [
      "Requirement already satisfied: shap in c:\\users\\asus vivo\\.conda\\envs\\me\\lib\\site-packages (0.46.0)\n",
      "Requirement already satisfied: numpy in c:\\users\\asus vivo\\.conda\\envs\\me\\lib\\site-packages (from shap) (1.26.4)\n",
      "Requirement already satisfied: scipy in c:\\users\\asus vivo\\.conda\\envs\\me\\lib\\site-packages (from shap) (1.13.1)\n",
      "Requirement already satisfied: scikit-learn in c:\\users\\asus vivo\\.conda\\envs\\me\\lib\\site-packages (from shap) (1.5.1)\n",
      "Requirement already satisfied: pandas in c:\\users\\asus vivo\\.conda\\envs\\me\\lib\\site-packages (from shap) (2.2.2)\n",
      "Requirement already satisfied: tqdm>=4.27.0 in c:\\users\\asus vivo\\.conda\\envs\\me\\lib\\site-packages (from shap) (4.66.5)\n",
      "Requirement already satisfied: packaging>20.9 in c:\\users\\asus vivo\\.conda\\envs\\me\\lib\\site-packages (from shap) (24.1)\n",
      "Requirement already satisfied: slicer==0.0.8 in c:\\users\\asus vivo\\.conda\\envs\\me\\lib\\site-packages (from shap) (0.0.8)\n",
      "Requirement already satisfied: numba in c:\\users\\asus vivo\\.conda\\envs\\me\\lib\\site-packages (from shap) (0.61.0)\n",
      "Requirement already satisfied: cloudpickle in c:\\users\\asus vivo\\.conda\\envs\\me\\lib\\site-packages (from shap) (3.1.1)\n",
      "Requirement already satisfied: colorama in c:\\users\\asus vivo\\.conda\\envs\\me\\lib\\site-packages (from tqdm>=4.27.0->shap) (0.4.6)\n",
      "Requirement already satisfied: llvmlite<0.45,>=0.44.0dev0 in c:\\users\\asus vivo\\.conda\\envs\\me\\lib\\site-packages (from numba->shap) (0.44.0)\n",
      "Requirement already satisfied: python-dateutil>=2.8.2 in c:\\users\\asus vivo\\.conda\\envs\\me\\lib\\site-packages (from pandas->shap) (2.9.0.post0)\n",
      "Requirement already satisfied: pytz>=2020.1 in c:\\users\\asus vivo\\.conda\\envs\\me\\lib\\site-packages (from pandas->shap) (2024.1)\n",
      "Requirement already satisfied: tzdata>=2022.7 in c:\\users\\asus vivo\\.conda\\envs\\me\\lib\\site-packages (from pandas->shap) (2023.3)\n",
      "Requirement already satisfied: joblib>=1.2.0 in c:\\users\\asus vivo\\.conda\\envs\\me\\lib\\site-packages (from scikit-learn->shap) (1.4.2)\n",
      "Requirement already satisfied: threadpoolctl>=3.1.0 in c:\\users\\asus vivo\\.conda\\envs\\me\\lib\\site-packages (from scikit-learn->shap) (3.5.0)\n",
      "Requirement already satisfied: six>=1.5 in c:\\users\\asus vivo\\.conda\\envs\\me\\lib\\site-packages (from python-dateutil>=2.8.2->pandas->shap) (1.16.0)\n",
      "Note: you may need to restart the kernel to use updated packages.\n"
     ]
    }
   ],
   "source": [
    "pip install shap"
   ]
  },
  {
   "cell_type": "code",
   "execution_count": 11,
   "metadata": {},
   "outputs": [],
   "source": [
    "import shap\n",
    "import matplotlib.pyplot as plt\n",
    "from sklearn.ensemble import RandomForestClassifier\n",
    "from data_analysis_and_preprocessing import load_data\n",
    "from sklearn.model_selection import train_test_split\n",
    "import pandas as pd"
   ]
  },
  {
   "cell_type": "code",
   "execution_count": 8,
   "metadata": {},
   "outputs": [],
   "source": [
    "Fraud_data=load_data(r'C:\\Users\\ASUS VIVO\\Desktop\\e-commerce\\Improved-detection-of-fraud-cases-for-e-commerce-and-bank-transactions\\data\\data\\Fraud_data_1.csv')\n",
    "creditcard=load_data(r'C:\\Users\\ASUS VIVO\\Desktop\\e-commerce\\Improved-detection-of-fraud-cases-for-e-commerce-and-bank-transactions\\data\\data\\creditcard_final.csv')\n",
    "\n",
    "\n"
   ]
  },
  {
   "cell_type": "code",
   "execution_count": 12,
   "metadata": {},
   "outputs": [],
   "source": [
    "list=['signup_time','purchase_time']\n",
    "for column in list:\n",
    " Fraud_data[column]=pd.to_datetime(Fraud_data[column])"
   ]
  },
  {
   "cell_type": "code",
   "execution_count": 13,
   "metadata": {},
   "outputs": [],
   "source": [
    "X_Fraud_data=Fraud_data.drop(['class','signup_time','purchase_time','device_id'],axis=1)\n",
    "Y_Fraud_data=Fraud_data['class']\n",
    "X_creditcard=creditcard.drop('Class',axis=1)\n",
    "Y_creditcard=creditcard['Class']"
   ]
  },
  {
   "cell_type": "code",
   "execution_count": 14,
   "metadata": {},
   "outputs": [],
   "source": [
    "\n",
    "X_train_fraud, X_test_fraud, y_train_fraud, y_test_fraud = train_test_split(X_Fraud_data, Y_Fraud_data, test_size=0.2, random_state=42)\n",
    "\n",
    "X_train_creditcard, X_test_creditcard, y_train_creditcard, y_test_creditcard = train_test_split(X_creditcard, Y_creditcard, test_size=0.2, random_state=42)"
   ]
  },
  {
   "cell_type": "code",
   "execution_count": null,
   "metadata": {},
   "outputs": [],
   "source": [
    "model_fraud = RandomForestClassifier(class_weight='balanced')\n",
    "model_fraud.fit(X_train_fraud, y_train_fraud)\n",
    "\n",
    "explainer = shap.TreeExplainer(model_fraud)\n",
    "shap_values = explainer.shap_values(X_train_fraud)"
   ]
  },
  {
   "cell_type": "markdown",
   "metadata": {},
   "source": [
    "Summary Plot: Provides an overview of the most important features."
   ]
  },
  {
   "cell_type": "code",
   "execution_count": null,
   "metadata": {},
   "outputs": [],
   "source": [
    "shap.summary_plot(shap_values,X_train_fraud)"
   ]
  },
  {
   "cell_type": "markdown",
   "metadata": {},
   "source": [
    "Force Plot: Visualizes the contribution of features for a single prediction."
   ]
  },
  {
   "cell_type": "code",
   "execution_count": null,
   "metadata": {},
   "outputs": [],
   "source": [
    "shap.force_plot(shap_values,X_train_fraud)"
   ]
  },
  {
   "cell_type": "markdown",
   "metadata": {},
   "source": [
    "Dependence Plot: Shows the relationship between a feature and the model output."
   ]
  },
  {
   "cell_type": "code",
   "execution_count": null,
   "metadata": {},
   "outputs": [],
   "source": [
    "shap.dependence_plot('feature name',shap_values[1],X_train_fraud)"
   ]
  }
 ],
 "metadata": {
  "kernelspec": {
   "display_name": "Python 3",
   "language": "python",
   "name": "python3"
  },
  "language_info": {
   "codemirror_mode": {
    "name": "ipython",
    "version": 3
   },
   "file_extension": ".py",
   "mimetype": "text/x-python",
   "name": "python",
   "nbconvert_exporter": "python",
   "pygments_lexer": "ipython3",
   "version": "3.12.4"
  }
 },
 "nbformat": 4,
 "nbformat_minor": 2
}
