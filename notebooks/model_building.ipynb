{
 "cells": [
  {
   "cell_type": "markdown",
   "metadata": {},
   "source": [
    "## Task 2 - Model Building and Training \n",
    "Data Preparation:\n",
    "Feature and Target Separation [‘Class’(creditcard), ‘class’(Fraud_Data)]\n",
    "Train-Test Split \n",
    "Model Selection\n",
    "Use several models to compare performance, including:\n",
    "Logistic Regression\n",
    "Decision Tree\n",
    "Random Forest\n",
    "Gradient Boosting\n",
    "Multi-Layer Perceptron (MLP)\n",
    "Convolutional Neural Network (CNN)\n",
    "Recurrent Neural Network (RNN)\n",
    "Long Short-Term Memory (LSTM)\n",
    "Model Training and Evaluation\n",
    "Training models for both credit card and fraud-data datasets.\n",
    "MLOps Steps\n",
    "Versioning and Experiment Tracking\n",
    "Use tools like MLflow to track experiments, log parameters, metrics, and version models.\n"
   ]
  },
  {
   "cell_type": "code",
   "execution_count": 1,
   "metadata": {},
   "outputs": [
    {
     "data": {
      "text/plain": [
       "<Figure size 640x480 with 0 Axes>"
      ]
     },
     "metadata": {},
     "output_type": "display_data"
    }
   ],
   "source": [
    "from data_analysis_and_preprocessing import load_data\n",
    "from sklearn.model_selection import train_test_split\n",
    "import pandas as pd\n",
    "from model_building import train_model\n",
    "from model_building import visualize\n",
    "from sklearn.linear_model import LogisticRegression\n",
    "from sklearn.tree import DecisionTreeClassifier\n",
    "from sklearn.ensemble import RandomForestClassifier, GradientBoostingClassifier\n",
    "from sklearn.neural_network import MLPClassifier\n",
    "from model_building import visualize_random_forest_predictions\n",
    "from model_building import save_the_model"
   ]
  },
  {
   "cell_type": "markdown",
   "metadata": {},
   "source": [
    "step 1 : Data preparation"
   ]
  },
  {
   "cell_type": "code",
   "execution_count": 2,
   "metadata": {},
   "outputs": [],
   "source": [
    "Fraud_data=load_data(r'C:\\Users\\ASUS VIVO\\Desktop\\e-commerce\\Improved-detection-of-fraud-cases-for-e-commerce-and-bank-transactions\\data\\data\\Fraud_data_1.csv')\n",
    "creditcard=load_data(r'C:\\Users\\ASUS VIVO\\Desktop\\e-commerce\\Improved-detection-of-fraud-cases-for-e-commerce-and-bank-transactions\\data\\data\\creditcard_final.csv')\n",
    "\n",
    "\n"
   ]
  },
  {
   "cell_type": "code",
   "execution_count": 3,
   "metadata": {},
   "outputs": [
    {
     "data": {
      "text/html": [
       "<div>\n",
       "<style scoped>\n",
       "    .dataframe tbody tr th:only-of-type {\n",
       "        vertical-align: middle;\n",
       "    }\n",
       "\n",
       "    .dataframe tbody tr th {\n",
       "        vertical-align: top;\n",
       "    }\n",
       "\n",
       "    .dataframe thead th {\n",
       "        text-align: right;\n",
       "    }\n",
       "</style>\n",
       "<table border=\"1\" class=\"dataframe\">\n",
       "  <thead>\n",
       "    <tr style=\"text-align: right;\">\n",
       "      <th></th>\n",
       "      <th>Unnamed: 0</th>\n",
       "      <th>user_id</th>\n",
       "      <th>signup_time</th>\n",
       "      <th>purchase_time</th>\n",
       "      <th>purchase_value</th>\n",
       "      <th>device_id</th>\n",
       "      <th>age</th>\n",
       "      <th>ip_address</th>\n",
       "      <th>class</th>\n",
       "      <th>source_Ads</th>\n",
       "      <th>source_Direct</th>\n",
       "      <th>source_SEO</th>\n",
       "      <th>browser_Chrome</th>\n",
       "      <th>browser_FireFox</th>\n",
       "      <th>browser_IE</th>\n",
       "      <th>browser_Opera</th>\n",
       "      <th>browser_Safari</th>\n",
       "      <th>sex_F</th>\n",
       "      <th>sex_M</th>\n",
       "    </tr>\n",
       "  </thead>\n",
       "  <tbody>\n",
       "    <tr>\n",
       "      <th>0</th>\n",
       "      <td>0</td>\n",
       "      <td>22058</td>\n",
       "      <td>2015-02-24 22:55:49</td>\n",
       "      <td>2015-04-18 02:47:11</td>\n",
       "      <td>0.172414</td>\n",
       "      <td>QVPSPJUOCKZAR</td>\n",
       "      <td>0.362069</td>\n",
       "      <td>7.327584e+08</td>\n",
       "      <td>0</td>\n",
       "      <td>False</td>\n",
       "      <td>False</td>\n",
       "      <td>True</td>\n",
       "      <td>True</td>\n",
       "      <td>False</td>\n",
       "      <td>False</td>\n",
       "      <td>False</td>\n",
       "      <td>False</td>\n",
       "      <td>False</td>\n",
       "      <td>True</td>\n",
       "    </tr>\n",
       "    <tr>\n",
       "      <th>1</th>\n",
       "      <td>1</td>\n",
       "      <td>333320</td>\n",
       "      <td>2015-06-07 20:39:50</td>\n",
       "      <td>2015-06-08 01:38:54</td>\n",
       "      <td>0.048276</td>\n",
       "      <td>EOGFQPIZPYXFZ</td>\n",
       "      <td>0.603448</td>\n",
       "      <td>3.503114e+08</td>\n",
       "      <td>0</td>\n",
       "      <td>True</td>\n",
       "      <td>False</td>\n",
       "      <td>False</td>\n",
       "      <td>True</td>\n",
       "      <td>False</td>\n",
       "      <td>False</td>\n",
       "      <td>False</td>\n",
       "      <td>False</td>\n",
       "      <td>True</td>\n",
       "      <td>False</td>\n",
       "    </tr>\n",
       "    <tr>\n",
       "      <th>2</th>\n",
       "      <td>2</td>\n",
       "      <td>1359</td>\n",
       "      <td>2015-01-01 18:52:44</td>\n",
       "      <td>2015-01-01 18:52:45</td>\n",
       "      <td>0.041379</td>\n",
       "      <td>YSSKYOSJHPPLJ</td>\n",
       "      <td>0.603448</td>\n",
       "      <td>2.621474e+09</td>\n",
       "      <td>1</td>\n",
       "      <td>False</td>\n",
       "      <td>False</td>\n",
       "      <td>True</td>\n",
       "      <td>False</td>\n",
       "      <td>False</td>\n",
       "      <td>False</td>\n",
       "      <td>True</td>\n",
       "      <td>False</td>\n",
       "      <td>False</td>\n",
       "      <td>True</td>\n",
       "    </tr>\n",
       "    <tr>\n",
       "      <th>3</th>\n",
       "      <td>3</td>\n",
       "      <td>150084</td>\n",
       "      <td>2015-04-28 21:13:25</td>\n",
       "      <td>2015-05-04 13:54:50</td>\n",
       "      <td>0.241379</td>\n",
       "      <td>ATGTXKYKUDUQN</td>\n",
       "      <td>0.396552</td>\n",
       "      <td>3.840542e+09</td>\n",
       "      <td>0</td>\n",
       "      <td>False</td>\n",
       "      <td>False</td>\n",
       "      <td>True</td>\n",
       "      <td>False</td>\n",
       "      <td>False</td>\n",
       "      <td>False</td>\n",
       "      <td>False</td>\n",
       "      <td>True</td>\n",
       "      <td>False</td>\n",
       "      <td>True</td>\n",
       "    </tr>\n",
       "    <tr>\n",
       "      <th>4</th>\n",
       "      <td>4</td>\n",
       "      <td>221365</td>\n",
       "      <td>2015-07-21 07:09:52</td>\n",
       "      <td>2015-09-09 18:40:53</td>\n",
       "      <td>0.206897</td>\n",
       "      <td>NAUITBZFJKHWW</td>\n",
       "      <td>0.465517</td>\n",
       "      <td>4.155831e+08</td>\n",
       "      <td>0</td>\n",
       "      <td>True</td>\n",
       "      <td>False</td>\n",
       "      <td>False</td>\n",
       "      <td>False</td>\n",
       "      <td>False</td>\n",
       "      <td>False</td>\n",
       "      <td>False</td>\n",
       "      <td>True</td>\n",
       "      <td>False</td>\n",
       "      <td>True</td>\n",
       "    </tr>\n",
       "  </tbody>\n",
       "</table>\n",
       "</div>"
      ],
      "text/plain": [
       "   Unnamed: 0  user_id          signup_time        purchase_time  \\\n",
       "0           0    22058  2015-02-24 22:55:49  2015-04-18 02:47:11   \n",
       "1           1   333320  2015-06-07 20:39:50  2015-06-08 01:38:54   \n",
       "2           2     1359  2015-01-01 18:52:44  2015-01-01 18:52:45   \n",
       "3           3   150084  2015-04-28 21:13:25  2015-05-04 13:54:50   \n",
       "4           4   221365  2015-07-21 07:09:52  2015-09-09 18:40:53   \n",
       "\n",
       "   purchase_value      device_id       age    ip_address  class  source_Ads  \\\n",
       "0        0.172414  QVPSPJUOCKZAR  0.362069  7.327584e+08      0       False   \n",
       "1        0.048276  EOGFQPIZPYXFZ  0.603448  3.503114e+08      0        True   \n",
       "2        0.041379  YSSKYOSJHPPLJ  0.603448  2.621474e+09      1       False   \n",
       "3        0.241379  ATGTXKYKUDUQN  0.396552  3.840542e+09      0       False   \n",
       "4        0.206897  NAUITBZFJKHWW  0.465517  4.155831e+08      0        True   \n",
       "\n",
       "   source_Direct  source_SEO  browser_Chrome  browser_FireFox  browser_IE  \\\n",
       "0          False        True            True            False       False   \n",
       "1          False       False            True            False       False   \n",
       "2          False        True           False            False       False   \n",
       "3          False        True           False            False       False   \n",
       "4          False       False           False            False       False   \n",
       "\n",
       "   browser_Opera  browser_Safari  sex_F  sex_M  \n",
       "0          False           False  False   True  \n",
       "1          False           False   True  False  \n",
       "2           True           False  False   True  \n",
       "3          False            True  False   True  \n",
       "4          False            True  False   True  "
      ]
     },
     "execution_count": 3,
     "metadata": {},
     "output_type": "execute_result"
    }
   ],
   "source": [
    "Fraud_data.head()"
   ]
  },
  {
   "cell_type": "code",
   "execution_count": 4,
   "metadata": {},
   "outputs": [],
   "source": [
    "list=['signup_time','purchase_time']\n",
    "for column in list:\n",
    " Fraud_data[column]=pd.to_datetime(Fraud_data[column])\n",
    " "
   ]
  },
  {
   "cell_type": "code",
   "execution_count": 5,
   "metadata": {},
   "outputs": [],
   "source": [
    "X_Fraud_data=Fraud_data.drop(['class','signup_time','purchase_time','device_id'],axis=1)\n",
    "Y_Fraud_data=Fraud_data['class']\n",
    "X_creditcard=creditcard.drop('Class',axis=1)\n",
    "Y_creditcard=creditcard['Class']"
   ]
  },
  {
   "cell_type": "markdown",
   "metadata": {},
   "source": [
    "step 2: split data"
   ]
  },
  {
   "cell_type": "code",
   "execution_count": 6,
   "metadata": {},
   "outputs": [
    {
     "name": "stdout",
     "output_type": "stream",
     "text": [
      "<class 'pandas.core.frame.DataFrame'>\n",
      "RangeIndex: 151112 entries, 0 to 151111\n",
      "Data columns (total 19 columns):\n",
      " #   Column           Non-Null Count   Dtype         \n",
      "---  ------           --------------   -----         \n",
      " 0   Unnamed: 0       151112 non-null  int64         \n",
      " 1   user_id          151112 non-null  int64         \n",
      " 2   signup_time      151112 non-null  datetime64[ns]\n",
      " 3   purchase_time    151112 non-null  datetime64[ns]\n",
      " 4   purchase_value   151112 non-null  float64       \n",
      " 5   device_id        151112 non-null  object        \n",
      " 6   age              151112 non-null  float64       \n",
      " 7   ip_address       151112 non-null  float64       \n",
      " 8   class            151112 non-null  int64         \n",
      " 9   source_Ads       151112 non-null  bool          \n",
      " 10  source_Direct    151112 non-null  bool          \n",
      " 11  source_SEO       151112 non-null  bool          \n",
      " 12  browser_Chrome   151112 non-null  bool          \n",
      " 13  browser_FireFox  151112 non-null  bool          \n",
      " 14  browser_IE       151112 non-null  bool          \n",
      " 15  browser_Opera    151112 non-null  bool          \n",
      " 16  browser_Safari   151112 non-null  bool          \n",
      " 17  sex_F            151112 non-null  bool          \n",
      " 18  sex_M            151112 non-null  bool          \n",
      "dtypes: bool(10), datetime64[ns](2), float64(3), int64(3), object(1)\n",
      "memory usage: 11.8+ MB\n"
     ]
    }
   ],
   "source": [
    "Fraud_data.info()"
   ]
  },
  {
   "cell_type": "code",
   "execution_count": 7,
   "metadata": {},
   "outputs": [],
   "source": [
    "\n",
    "X_train_fraud, X_test_fraud, y_train_fraud, y_test_fraud = train_test_split(X_Fraud_data, Y_Fraud_data, test_size=0.2, random_state=42)\n",
    "\n",
    "X_train_creditcard, X_test_creditcard, y_train_creditcard, y_test_creditcard = train_test_split(X_creditcard, Y_creditcard, test_size=0.2, random_state=42)"
   ]
  },
  {
   "cell_type": "markdown",
   "metadata": {},
   "source": [
    "step 3: model selection"
   ]
  },
  {
   "cell_type": "code",
   "execution_count": 8,
   "metadata": {},
   "outputs": [
    {
     "name": "stdout",
     "output_type": "stream",
     "text": [
      "Fraud_data accuracy in LogisticRegression() is : 0.9057009562253913\n",
      "Fraud_data accuracy in DecisionTreeClassifier(class_weight='balanced') is : 0.8914072064321874\n",
      "Fraud_data accuracy in RandomForestClassifier(class_weight='balanced') is : 0.9225755219534791\n",
      "Fraud_data accuracy in GradientBoostingClassifier() is : 0.9055355193064885\n",
      "Fraud_data accuracy in MLPClassifier(max_iter=1000) is : 0.9057009562253913\n",
      "Fraud_data accuracy in DecisionTreeClassifier(class_weight='balanced') is : 0.8904145849187705\n"
     ]
    }
   ],
   "source": [
    "print(train_model(LogisticRegression(),'Fraud_data',X_train_fraud,y_train_fraud,X_test_fraud,y_test_fraud))\n",
    "print(train_model(DecisionTreeClassifier(class_weight='balanced'),'Fraud_data',X_train_fraud,y_train_fraud,X_test_fraud,y_test_fraud))\n",
    "print(train_model(RandomForestClassifier(class_weight='balanced'),'Fraud_data',X_train_fraud,y_train_fraud,X_test_fraud,y_test_fraud))\n",
    "print(train_model(GradientBoostingClassifier(),'Fraud_data',X_train_fraud,y_train_fraud,X_test_fraud,y_test_fraud))\n",
    "print(train_model(MLPClassifier(max_iter=1000),'Fraud_data',X_train_fraud,y_train_fraud,X_test_fraud,y_test_fraud))\n",
    "print(train_model(DecisionTreeClassifier(class_weight='balanced'),'Fraud_data',X_train_fraud,y_train_fraud,X_test_fraud,y_test_fraud))"
   ]
  },
  {
   "cell_type": "markdown",
   "metadata": {},
   "source": [
    "so RandomForestClassifier is best option for Fraud_data"
   ]
  },
  {
   "cell_type": "code",
   "execution_count": 9,
   "metadata": {},
   "outputs": [
    {
     "name": "stderr",
     "output_type": "stream",
     "text": [
      "c:\\Users\\ASUS VIVO\\.conda\\envs\\me\\Lib\\site-packages\\sklearn\\linear_model\\_logistic.py:469: ConvergenceWarning: lbfgs failed to converge (status=1):\n",
      "STOP: TOTAL NO. of ITERATIONS REACHED LIMIT.\n",
      "\n",
      "Increase the number of iterations (max_iter) or scale the data as shown in:\n",
      "    https://scikit-learn.org/stable/modules/preprocessing.html\n",
      "Please also refer to the documentation for alternative solver options:\n",
      "    https://scikit-learn.org/stable/modules/linear_model.html#logistic-regression\n",
      "  n_iter_i = _check_optimize_result(\n"
     ]
    },
    {
     "name": "stdout",
     "output_type": "stream",
     "text": [
      "creditcard accuracy in LogisticRegression() is : 0.9990519995786665\n",
      "creditcard accuracy in DecisionTreeClassifier(class_weight='balanced') is : 0.9990519995786665\n",
      "creditcard accuracy in RandomForestClassifier(class_weight='balanced') is : 0.9995259997893332\n",
      "creditcard accuracy in GradientBoostingClassifier() is : 0.9989466661985184\n",
      "creditcard accuracy in MLPClassifier(max_iter=1000) is : 0.9982093325374811\n",
      "creditcard accuracy in DecisionTreeClassifier(class_weight='balanced') is : 0.9990871107053826\n"
     ]
    }
   ],
   "source": [
    "print(train_model(LogisticRegression(),'creditcard',X_train_creditcard,y_train_creditcard,X_test_creditcard,y_test_creditcard))\n",
    "print(train_model(DecisionTreeClassifier(class_weight='balanced'),'creditcard',X_train_creditcard,y_train_creditcard,X_test_creditcard,y_test_creditcard))\n",
    "print(train_model(RandomForestClassifier(class_weight='balanced'),'creditcard',X_train_creditcard,y_train_creditcard,X_test_creditcard,y_test_creditcard))\n",
    "print(train_model(GradientBoostingClassifier(),'creditcard',X_train_creditcard,y_train_creditcard,X_test_creditcard,y_test_creditcard))\n",
    "print(train_model(MLPClassifier(max_iter=1000),'creditcard',X_train_creditcard,y_train_creditcard,X_test_creditcard,y_test_creditcard))\n",
    "print(train_model(DecisionTreeClassifier(class_weight='balanced'),'creditcard',X_train_creditcard,y_train_creditcard,X_test_creditcard,y_test_creditcard))"
   ]
  },
  {
   "cell_type": "markdown",
   "metadata": {},
   "source": [
    "RandomForestClassifier is the best alogorithm for both data b/c of high accuracy"
   ]
  },
  {
   "cell_type": "code",
   "execution_count": 10,
   "metadata": {},
   "outputs": [
    {
     "name": "stdout",
     "output_type": "stream",
     "text": [
      "Accuracy for Fraud Data: 0.92\n",
      "Accuracy for Credit Card Data: 1.00\n"
     ]
    },
    {
     "data": {
      "image/png": "[encoded data removed]",
      "text/plain": [
       "<Figure size 1200x600 with 2 Axes>"
      ]
     },
     "metadata": {},
     "output_type": "display_data"
    }
   ],
   "source": [
    "visualize_random_forest_predictions(X_train_fraud, y_train_fraud, X_test_fraud, y_test_fraud,\n",
    "                                     X_train_creditcard, y_train_creditcard, X_test_creditcard, y_test_creditcard)"
   ]
  },
  {
   "cell_type": "markdown",
   "metadata": {},
   "source": [
    "save the model"
   ]
  },
  {
   "cell_type": "code",
   "execution_count": null,
   "metadata": {},
   "outputs": [
    {
     "name": "stdout",
     "output_type": "stream",
     "text": [
      "Models saved successfully.\n"
     ]
    }
   ],
   "source": [
    "output_directory = r'C:\\Users\\ASUS VIVO\\Desktop\\e-commerce\\Improved-detection-of-fraud-cases-for-e-commerce-and-bank-transactions\\model'\n",
    "save_the_model(X_train_fraud, y_train_fraud, X_train_creditcard, y_train_creditcard, output_directory)"
   ]
  },
  {
   "cell_type": "code",
   "execution_count": null,
   "metadata": {},
   "outputs": [],
   "source": []
  }
 ],
 "metadata": {
  "kernelspec": {
   "display_name": "Python 3",
   "language": "python",
   "name": "python3"
  },
  "language_info": {
   "codemirror_mode": {
    "name": "ipython",
    "version": 3
   },
   "file_extension": ".py",
   "mimetype": "text/x-python",
   "name": "python",
   "nbconvert_exporter": "python",
   "pygments_lexer": "ipython3",
   "version": "3.12.4"
  }
 },
 "nbformat": 4,
 "nbformat_minor": 2
}
